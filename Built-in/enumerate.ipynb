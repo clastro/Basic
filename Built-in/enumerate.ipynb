{
 "cells": [
  {
   "cell_type": "markdown",
   "id": "744a9970",
   "metadata": {},
   "source": [
    "## Enumerate : 열거하다"
   ]
  },
  {
   "cell_type": "code",
   "execution_count": 1,
   "id": "d90a9b55",
   "metadata": {},
   "outputs": [],
   "source": [
    "fruits = ['Apple','Orange','Grape']"
   ]
  },
  {
   "cell_type": "code",
   "execution_count": 2,
   "id": "fb695af6",
   "metadata": {},
   "outputs": [
    {
     "name": "stdout",
     "output_type": "stream",
     "text": [
      "(0, 'Apple')\n",
      "(1, 'Orange')\n",
      "(2, 'Grape')\n"
     ]
    }
   ],
   "source": [
    "for i,j in enumerate(fruits):\n",
    "    print((i,j))"
   ]
  },
  {
   "cell_type": "code",
   "execution_count": null,
   "id": "e51566ee",
   "metadata": {},
   "outputs": [],
   "source": []
  }
 ],
 "metadata": {
  "kernelspec": {
   "display_name": "Python 3 (ipykernel)",
   "language": "python",
   "name": "python3"
  },
  "language_info": {
   "codemirror_mode": {
    "name": "ipython",
    "version": 3
   },
   "file_extension": ".py",
   "mimetype": "text/x-python",
   "name": "python",
   "nbconvert_exporter": "python",
   "pygments_lexer": "ipython3",
   "version": "3.9.7"
  }
 },
 "nbformat": 4,
 "nbformat_minor": 5
}
